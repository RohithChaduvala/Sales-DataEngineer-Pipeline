{
 "cells": [
  {
   "cell_type": "code",
   "execution_count": 0,
   "metadata": {
    "application/vnd.databricks.v1+cell": {
     "cellMetadata": {
      "byteLimit": 2048000,
      "rowLimit": 10000
     },
     "collapsed": true,
     "inputWidgets": {},
     "nuid": "9b9d360f-20a6-474c-af71-365238fa1871",
     "showTitle": false,
     "tableResultSettingsMap": {},
     "title": ""
    }
   },
   "outputs": [
    {
     "output_type": "execute_result",
     "data": {
      "text/plain": [
       "[FileInfo(path='dbfs:/mnt/silver/SalesLT/Address/', name='Address/', size=0, modificationTime=1747410302000),\n",
       " FileInfo(path='dbfs:/mnt/silver/SalesLT/Customer/', name='Customer/', size=0, modificationTime=1747410317000),\n",
       " FileInfo(path='dbfs:/mnt/silver/SalesLT/CustomerAddress/', name='CustomerAddress/', size=0, modificationTime=1747410320000),\n",
       " FileInfo(path='dbfs:/mnt/silver/SalesLT/Product/', name='Product/', size=0, modificationTime=1747410324000),\n",
       " FileInfo(path='dbfs:/mnt/silver/SalesLT/ProductCategory/', name='ProductCategory/', size=0, modificationTime=1747410327000),\n",
       " FileInfo(path='dbfs:/mnt/silver/SalesLT/ProductDescription/', name='ProductDescription/', size=0, modificationTime=1747410330000),\n",
       " FileInfo(path='dbfs:/mnt/silver/SalesLT/ProductModel/', name='ProductModel/', size=0, modificationTime=1747410333000),\n",
       " FileInfo(path='dbfs:/mnt/silver/SalesLT/ProductModelProductDescription/', name='ProductModelProductDescription/', size=0, modificationTime=1747410336000),\n",
       " FileInfo(path='dbfs:/mnt/silver/SalesLT/SalesOrderDetail/', name='SalesOrderDetail/', size=0, modificationTime=1747410338000),\n",
       " FileInfo(path='dbfs:/mnt/silver/SalesLT/SalesOrderHeader/', name='SalesOrderHeader/', size=0, modificationTime=1747410340000)]"
      ]
     },
     "execution_count": 9,
     "metadata": {},
     "output_type": "execute_result"
    }
   ],
   "source": [
    "dbutils.fs.ls(\"/mnt/silver/SalesLT/\")"
   ]
  },
  {
   "cell_type": "code",
   "execution_count": 0,
   "metadata": {
    "application/vnd.databricks.v1+cell": {
     "cellMetadata": {
      "byteLimit": 2048000,
      "rowLimit": 10000
     },
     "inputWidgets": {},
     "nuid": "7d126598-5672-4ea4-b683-300cab2e1a51",
     "showTitle": false,
     "tableResultSettingsMap": {},
     "title": ""
    }
   },
   "outputs": [
    {
     "output_type": "execute_result",
     "data": {
      "text/plain": [
       "[FileInfo(path='dbfs:/mnt/gold/SalesLT/', name='SalesLT/', size=0, modificationTime=1747413616000)]"
      ]
     },
     "execution_count": 10,
     "metadata": {},
     "output_type": "execute_result"
    }
   ],
   "source": [
    "dbutils.fs.ls(\"/mnt/gold/\")"
   ]
  },
  {
   "cell_type": "code",
   "execution_count": 0,
   "metadata": {
    "application/vnd.databricks.v1+cell": {
     "cellMetadata": {
      "byteLimit": 2048000,
      "rowLimit": 10000
     },
     "inputWidgets": {},
     "nuid": "4a6e33af-4cba-4eb8-90ea-1ff9665a1698",
     "showTitle": false,
     "tableResultSettingsMap": {},
     "title": ""
    }
   },
   "outputs": [],
   "source": [
    "df=spark.read.format(\"delta\").load(\"/mnt/silver/SalesLT/Address/\")"
   ]
  },
  {
   "cell_type": "code",
   "execution_count": 0,
   "metadata": {
    "application/vnd.databricks.v1+cell": {
     "cellMetadata": {
      "byteLimit": 2048000,
      "rowLimit": 10000
     },
     "inputWidgets": {},
     "nuid": "5f762e89-6321-43fe-a860-39b2440461f3",
     "showTitle": false,
     "tableResultSettingsMap": {},
     "title": ""
    }
   },
   "outputs": [],
   "source": [
    "from pyspark.sql.functions import col\n",
    "\n",
    "def rename_columns_to_snake_case(df):\n",
    "    \"\"\" \n",
    "    Convert column names from PascalCase to snake_case in a pyspark dataframe.\n",
    "    Args:\n",
    "        df(dataframe): the input dataframe with columns to be renamed. \n",
    "    Returns:\n",
    "        A new dataframe with new columns converted to snake_case.\n",
    "    \"\"\"\n",
    "    #Get the list of Columns\n",
    "    column_names=df.columns\n",
    "\n",
    "    #Dictionary to hold old and new column name mappings\n",
    "    rename_map={}\n",
    "    \n",
    "    for old_col in column_names:\n",
    "        new_col=\"\".join([\n",
    "            \"_\"+char.lower() if (\n",
    "                char.isupper() and \n",
    "                idx>0 and       #ensure it is not first character\n",
    "                not old_col[idx-1].isupper() #ensure the previous character is not uppercase\n",
    "                ) else char.lower() \n",
    "            for idx, char in enumerate(old_col)\n",
    "        ]).lstrip(\"_\") # remove any leading underscore \n",
    "\n",
    "        #Avoid renaming to an existing column name \n",
    "        if new_col in rename_map.values():\n",
    "            raise ValueError(f\"duplicate column name found after renaming: '{new_col}'\")\n",
    "        #map the old column name to new column name\n",
    "        rename_map[old_col]=new_col\n",
    "    #rename columns using the mapping \n",
    "    for old_col,new_col in rename_map.items():\n",
    "        df=df.withColumnRenamed(old_col,new_col)\n",
    "\n",
    "    return df\n",
    "\n",
    "#Example usage\n",
    "# df= rename_columns_to_snake_case(df)            "
   ]
  },
  {
   "cell_type": "code",
   "execution_count": 0,
   "metadata": {
    "application/vnd.databricks.v1+cell": {
     "cellMetadata": {
      "byteLimit": 2048000,
      "rowLimit": 10000
     },
     "inputWidgets": {},
     "nuid": "b52ede66-bced-47a9-bac7-da627a7b1a32",
     "showTitle": false,
     "tableResultSettingsMap": {},
     "title": ""
    }
   },
   "outputs": [],
   "source": [
    "df= rename_columns_to_snake_case(df)"
   ]
  },
  {
   "cell_type": "markdown",
   "metadata": {
    "application/vnd.databricks.v1+cell": {
     "cellMetadata": {
      "byteLimit": 2048000,
      "rowLimit": 10000
     },
     "inputWidgets": {},
     "nuid": "a5c549a2-c9e5-48c8-9b16-d8deab6040ca",
     "showTitle": false,
     "tableResultSettingsMap": {},
     "title": ""
    }
   },
   "source": [
    "All table columns transformations\n",
    "****"
   ]
  },
  {
   "cell_type": "code",
   "execution_count": 0,
   "metadata": {
    "application/vnd.databricks.v1+cell": {
     "cellMetadata": {
      "byteLimit": 2048000,
      "rowLimit": 10000
     },
     "inputWidgets": {},
     "nuid": "78b8fbfa-c74a-45b3-9f5a-845c28eb2648",
     "showTitle": false,
     "tableResultSettingsMap": {},
     "title": ""
    }
   },
   "outputs": [],
   "source": [
    "table_temp=[]\n",
    "\n",
    "for i in dbutils.fs.ls(\"/mnt/silver/SalesLT/\"):\n",
    "    table_temp.append(i)"
   ]
  },
  {
   "cell_type": "code",
   "execution_count": 0,
   "metadata": {
    "application/vnd.databricks.v1+cell": {
     "cellMetadata": {
      "byteLimit": 2048000,
      "rowLimit": 10000
     },
     "inputWidgets": {},
     "nuid": "3c73ab05-8e44-4d49-9014-20db90360824",
     "showTitle": false,
     "tableResultSettingsMap": {},
     "title": ""
    }
   },
   "outputs": [
    {
     "output_type": "execute_result",
     "data": {
      "text/plain": [
       "[FileInfo(path='dbfs:/mnt/silver/SalesLT/Address/', name='Address/', size=0, modificationTime=1747410302000),\n",
       " FileInfo(path='dbfs:/mnt/silver/SalesLT/Customer/', name='Customer/', size=0, modificationTime=1747410317000),\n",
       " FileInfo(path='dbfs:/mnt/silver/SalesLT/CustomerAddress/', name='CustomerAddress/', size=0, modificationTime=1747410320000),\n",
       " FileInfo(path='dbfs:/mnt/silver/SalesLT/Product/', name='Product/', size=0, modificationTime=1747410324000),\n",
       " FileInfo(path='dbfs:/mnt/silver/SalesLT/ProductCategory/', name='ProductCategory/', size=0, modificationTime=1747410327000),\n",
       " FileInfo(path='dbfs:/mnt/silver/SalesLT/ProductDescription/', name='ProductDescription/', size=0, modificationTime=1747410330000),\n",
       " FileInfo(path='dbfs:/mnt/silver/SalesLT/ProductModel/', name='ProductModel/', size=0, modificationTime=1747410333000),\n",
       " FileInfo(path='dbfs:/mnt/silver/SalesLT/ProductModelProductDescription/', name='ProductModelProductDescription/', size=0, modificationTime=1747410336000),\n",
       " FileInfo(path='dbfs:/mnt/silver/SalesLT/SalesOrderDetail/', name='SalesOrderDetail/', size=0, modificationTime=1747410338000),\n",
       " FileInfo(path='dbfs:/mnt/silver/SalesLT/SalesOrderHeader/', name='SalesOrderHeader/', size=0, modificationTime=1747410340000)]"
      ]
     },
     "execution_count": 17,
     "metadata": {},
     "output_type": "execute_result"
    }
   ],
   "source": [
    "table_temp"
   ]
  },
  {
   "cell_type": "code",
   "execution_count": 0,
   "metadata": {
    "application/vnd.databricks.v1+cell": {
     "cellMetadata": {
      "byteLimit": 2048000,
      "rowLimit": 10000
     },
     "inputWidgets": {},
     "nuid": "c5c06326-b4f7-4f60-93be-2635d83975b3",
     "showTitle": false,
     "tableResultSettingsMap": {},
     "title": ""
    }
   },
   "outputs": [],
   "source": [
    "table_name=[]\n",
    "for i in dbutils.fs.ls(\"mnt/silver/SalesLT\"):\n",
    "    table_name.append(i.name.split('/')[0])"
   ]
  },
  {
   "cell_type": "code",
   "execution_count": 0,
   "metadata": {
    "application/vnd.databricks.v1+cell": {
     "cellMetadata": {
      "byteLimit": 2048000,
      "rowLimit": 10000
     },
     "collapsed": true,
     "inputWidgets": {},
     "nuid": "6fa88173-5c3f-44d5-8f4f-0c09c58eaea9",
     "showTitle": false,
     "tableResultSettingsMap": {},
     "title": ""
    }
   },
   "outputs": [
    {
     "output_type": "execute_result",
     "data": {
      "text/plain": [
       "['Address',\n",
       " 'Customer',\n",
       " 'CustomerAddress',\n",
       " 'Product',\n",
       " 'ProductCategory',\n",
       " 'ProductDescription',\n",
       " 'ProductModel',\n",
       " 'ProductModelProductDescription',\n",
       " 'SalesOrderDetail',\n",
       " 'SalesOrderHeader']"
      ]
     },
     "execution_count": 19,
     "metadata": {},
     "output_type": "execute_result"
    }
   ],
   "source": [
    "table_name"
   ]
  },
  {
   "cell_type": "code",
   "execution_count": 0,
   "metadata": {
    "application/vnd.databricks.v1+cell": {
     "cellMetadata": {
      "byteLimit": 2048000,
      "rowLimit": 10000
     },
     "inputWidgets": {},
     "nuid": "300ba8e9-152a-41a2-acfd-186e8537ef09",
     "showTitle": false,
     "tableResultSettingsMap": {},
     "title": ""
    }
   },
   "outputs": [
    {
     "output_type": "stream",
     "name": "stdout",
     "output_type": "stream",
     "text": [
      "/mnt/silver/SalesLT/Address\n/mnt/silver/SalesLT/Customer\n/mnt/silver/SalesLT/CustomerAddress\n/mnt/silver/SalesLT/Product\n/mnt/silver/SalesLT/ProductCategory\n/mnt/silver/SalesLT/ProductDescription\n/mnt/silver/SalesLT/ProductModel\n/mnt/silver/SalesLT/ProductModelProductDescription\n/mnt/silver/SalesLT/SalesOrderDetail\n/mnt/silver/SalesLT/SalesOrderHeader\n"
     ]
    }
   ],
   "source": [
    "for name in table_name:\n",
    "    path='/mnt/silver/SalesLT/'+name\n",
    "    print(path)\n",
    "    df=spark.read.format(\"delta\").load(path)\n",
    "\n",
    "    df=rename_columns_to_snake_case(df)\n",
    "\n",
    "    output_path='/mnt/gold/SalesLT/'+name+'/'\n",
    "    df.write.mode(\"overwrite\").format(\"delta\").save(output_path)\n",
    "\n"
   ]
  }
 ],
 "metadata": {
  "application/vnd.databricks.v1+notebook": {
   "computePreferences": null,
   "dashboards": [],
   "environmentMetadata": {
    "base_environment": "",
    "environment_version": "2"
   },
   "inputWidgetPreferences": null,
   "language": "python",
   "notebookMetadata": {
    "pythonIndentUnit": 4
   },
   "notebookName": "silver to Gold transformation",
   "widgets": {}
  },
  "language_info": {
   "name": "python"
  }
 },
 "nbformat": 4,
 "nbformat_minor": 0
}